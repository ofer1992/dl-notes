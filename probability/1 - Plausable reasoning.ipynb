{
 "cells": [
  {
   "cell_type": "markdown",
   "metadata": {},
   "source": [
    "How do we reason? \n",
    "Policeman and burglar in that example not logical deduction, what is a logical deduction? I suppose you start with a certain premise or facts and use the laws of logic  to arrive to a conclusion \n",
    "So not valid for certain, but plausible.\n",
    "this work strive to eliminate some intuitive judgments an ad hoc procedures by a definite serums and very Elementary criteria of rationality \n",
    "Deductive reasoning can be analyzed ultimately into the repeated application of two strong   syllogisms,  ( what is Syllogism?) \n",
    "if A is true then B is true\n",
    "A is true -> therefore, B is true\n",
    "B is false -> therefore, A is false\n",
    "\n",
    "We cannot use this usually so we use the weaker syllogism\n",
    "B is true -> therefore, A becomes more plausible\n",
    "A is false -> therefore, B becomes less plausible \n",
    "No proof but more confidence\n",
    "Logical consequence versus  causal physical consequence . we are concerned with logical connections, the distinction is made to prevent errors.\n",
    "\n",
    "The policeman actually uses a different weaker syllogism\n",
    "If A is true, then B becomes more plausible\n",
    "B is true -> therefore, A becomes more plausible  \n",
    "the abstract argument is weak but the conclusion has a very strong convincing power. \n",
    "Reasoning we depend very much and pry information Hunter Valley writing a degree of possibility of a problem . it is done unconsciously we call it common sense .\n",
    "\n",
    "deductive reasoning has a quality order propertyware to conclusions have as much certainty as apprentices regardless of the length of the deduction. it is not so with plausible reasoning but quantitatively they can still approach at the certainty of a deductive reasoning\n",
    "\n",
    "To understand Common Sense we will build an idealized mathematical model similar to a physical model. We are not trying to build a machine which would  Model human common sense, but a machine which would carry out useful possible reasoning following clearly defined principals expressing an idealized common sense. \n",
    "\n",
    "1.5 Going over the laws of boolean arithmetic. From the standpoint of logic, A iff B is the smae in case of tautology and in case of deduction. In the same way, an axiom of plausible reasoning is that propositions with the same truth value are equally plausible (same truth value?)\n",
    "The term week syllogism is misleading,  for plausible reasoning is an extension of logic with new content. Difference in the meaning of the word implies in ordinary language and informal logic is a tricky point.  in ordinary language implies would mean that b is logically deducible from a. informal logic it only means that A and (A and B) have the same truth value. \n",
    "\n",
    "1.6 demonstrates how our three operations (AND, OR, NOT) are enough to generate any logic function, and how AND, OR and NOT can themselves be generated with one operation, NAND/NOR. We also note the the set of such functions is finite under a finite number of propositions.\n",
    "\n",
    "1.7 The basic desiderata Laying the groundwork for a plausibility as a real number,  by raising the question of how it would be represented in the robot. \n",
    "\n",
    "Degrees of plausibility are represented by real numbers.\n",
    "Qualitative correspondence with common sense.\n",
    "Consistency:\n",
    "If a conclusion can be reasoned out in more than one way, then every possible way must lead to the same result.\n",
    "The robot always takes into account all of the evidence it has relevant to a question. It does not arbitrarily ignore some of the information, basing its conclusions only on what remains. In other words, the robot is completely nonideological.\n",
    "The robot always represents equivalent states of knowledge by equivalent plausibility assignments. That is, if in two problems the robot’s state of knowledge is the same (except perhaps for the labeling of the propositions), then it must assign the same plausibilities in both.\n",
    "\n"
   ]
  }
 ],
 "metadata": {
  "kernelspec": {
   "display_name": "Python 3",
   "language": "python",
   "name": "python3"
  },
  "language_info": {
   "codemirror_mode": {
    "name": "ipython",
    "version": 3
   },
   "file_extension": ".py",
   "mimetype": "text/x-python",
   "name": "python",
   "nbconvert_exporter": "python",
   "pygments_lexer": "ipython3",
   "version": "3.7.6"
  }
 },
 "nbformat": 4,
 "nbformat_minor": 4
}
