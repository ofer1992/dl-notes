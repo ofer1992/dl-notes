{
 "cells": [
  {
   "cell_type": "code",
   "execution_count": 3,
   "metadata": {},
   "outputs": [],
   "source": [
    "import numpy as np\n",
    "import matplotlib.pyplot as plt\n",
    "from scipy.stats import entropy, binom, bernoulli, multivariate_normal\n",
    "from functools import partial\n",
    "entropy=partial(entropy, base=2)\n",
    "np.random.seed = 42"
   ]
  },
  {
   "cell_type": "markdown",
   "metadata": {},
   "source": [
    "Latex macros\n",
    "$\\renewcommand{\\vec}[1]{\\mathbf{#1}}$\n",
    "$\\renewcommand{\\ex}[1]{\\mathbb{E}\\left[{#1}\\right]}$\n",
    "$\\renewcommand{\\dkl}[2]{D_\\text{KL}\\left(\\mathbf{#1\\|#2}\\right)}$\n",
    "$\\renewcommand{\\hyp}{\\mathcal{H}}$\n",
    "$\\renewcommand{\\soin}{s_\\text{in}}$\n",
    "$\\renewcommand{\\sout}{s_\\text{out}}$"
   ]
  },
  {
   "cell_type": "markdown",
   "metadata": {},
   "source": [
    "# Probabilities and Inference\n",
    "\n",
    "As the title suggests, we deal with inference problems in this part, Mostly with bayesian methods I suppose. It's less linear and more of a hodgepodge. The problems can be categorized as follows:\n",
    "- Exact methods\n",
    "- Deterministic approximations\n",
    "- Monte Carlo methods\n",
    "\n",
    "One misconception to note is the the aim of inference is not to find _the most probable explanation_ for some data, but the whole distribution. The most probable hypothesis given some data may be atypical of the whole set of reasonably-plausible hypotheses.\n",
    "\n",
    "## An Example Inference Task: Clustering\n",
    "We will go over this quickly as I'm already familiar with Clustering.  \n",
    "Why cluster?\n",
    "1. A good clustering has predictive power-we believe the underlying cluster labels are meaningful.\n",
    "2. Clusters can be a useful aid to communication as a form of lossy compression.\n",
    "3. Failures of the cluster model may highlight interesting objects that deserve special attention.\n",
    "4. Clusters can serve as models of learning processes in neural systems.\n",
    "\n",
    "So we have $N$ data points, $K$ labels, and we want to assign $\\vec x\\to k(\\vec x)$ in a way that minimizes the expected _distortion_\n",
    "$$D=\\sum_{\\vec x}P(\\vec x)\\frac12\\left[\\vec m^{(k(\\vec x))}-\\vec x\\right]^2$$\n",
    "where $\\vec m^{k(\\vec x)}$ is a representative for the $k(\\vec x)$'th cluster.\n",
    "\n",
    "Let's see a toy example:"
   ]
  },
  {
   "cell_type": "code",
   "execution_count": 101,
   "metadata": {},
   "outputs": [
    {
     "data": {
      "image/png": "[encoded data removed]",
      "text/plain": [
       "<Figure size 360x360 with 1 Axes>"
      ]
     },
     "metadata": {
      "needs_background": "light"
     },
     "output_type": "display_data"
    }
   ],
   "source": [
    "# first we generate some data points and plot them\n",
    "m1, v1 = [0.,-1.], [[.75,0]\n",
    "                  ,[0.,.5]]\n",
    "m2, v2 = [2.,3.], [[0.5,0]\n",
    "                  ,[0.,1.]]\n",
    "X = np.vstack([multivariate_normal.rvs(m1,v1,size=30)\n",
    "             ,multivariate_normal.rvs(m2,v2,size=10)])\n",
    "fig,ax = plt.subplots(figsize=(5,5))\n",
    "ax.scatter(X[:,0],X[:,1],marker=\"+\")\n",
    "ax.set(xlim=[-5.0,5.0], ylim=[-5,5]);"
   ]
  },
  {
   "cell_type": "code",
   "execution_count": 64,
   "metadata": {},
   "outputs": [
    {
     "data": {
      "image/png": "[encoded data removed]",
      "text/plain": [
       "<Figure size 360x360 with 1 Axes>"
      ]
     },
     "metadata": {
      "needs_background": "light"
     },
     "output_type": "display_data"
    }
   ],
   "source": [
    "def plot_means(X, M, k_X, title=\"kmeans\"):\n",
    "    fig,ax = plt.subplots(figsize=(5,5))\n",
    "    ax.set(xlim=[-5.0,5.0], ylim=[-5,5],title=title);\n",
    "    ax.scatter(M[:,0],M[:,1],marker=\"o\",c='red')\n",
    "    markers = [\"1\",\"2\",\"3\",\"4\"]+[\".\"]*(len(k_X)-4)\n",
    "    for i in range(len(k_X)):\n",
    "        members = k_X==i\n",
    "        ax.scatter(X[members,0],X[members,1],marker=markers[i])\n",
    "        \n",
    "\n",
    "# X - data points\n",
    "# k - number of clusters\n",
    "# d - distance function\n",
    "def kmeans(X, d, k=2):\n",
    "    # we need to initialize k representatives somehow\n",
    "    def assign():\n",
    "        k_X = np.array([-1]*X.shape[0])\n",
    "        for i, x in enumerate(X):\n",
    "            k_X[i] = min(range(k),key=lambda j:d(x, M[j]))\n",
    "        return k_X\n",
    "    M = X[np.random.choice(X.shape[0], size=k, replace=False)]\n",
    "    k_X = assign()\n",
    "    while True:\n",
    "#         plot_means(X, M, k_X, title=\"assign\")\n",
    "        for i in range(M.shape[0]):\n",
    "            members = X[k_X==i]\n",
    "            if members.any():\n",
    "                M[i] = np.mean(X[k_X==i])\n",
    "#         plot_means(X, M, k_X, title=\"sample mean\")\n",
    "        new_k_X = assign()\n",
    "        if (new_k_X == k_X).all():\n",
    "            break\n",
    "        k_X = new_k_X\n",
    "    return M, k_X\n",
    "        \n",
    "k = 2\n",
    "M, k_X = kmeans(X, lambda x,y:np.linalg.norm(x-y), k=k)\n",
    "plot_means(X, M, k_X)"
   ]
  },
  {
   "cell_type": "markdown",
   "metadata": {},
   "source": [
    "**Exercise 20.1** Prove K-means always converges.\n",
    "We claim after each step the sum of distances $\\sum_id(x_i,k(x_i))$ from cluster representatives decreases. Let $\\{x_i\\}$ be our $N$ data points and $\\{m_j^s\\}$ our $K$ means on step $s$. After the assign stage, $d(x_i,k^{s+1}(x_i))\\leq d(x_i,k^{s}(x_i))$ with strict inequality if there was a change, therefore the sum over all data-points decreases. A property of the sample mean of a set is that it minimizes the sum of distances, therefore after the update step $$\\sum_id(x_i,k^{s+1}(x_i))=\\sum_j\\sum_{x,k^{s+1}(x)=m_j}d(x_i,m_j^{s+1})\\leq\\sum_j\\sum_{x,k^{s+1}(x)=m_j}d(x_i,m_j^s)$$\n",
    "\n",
    "Okay apart from some abuse of notation the idea is clear: if there's a change in assignment the sum strictly decreases. How do we know it doesn't keep decreasing forever? Let's assume by contradiction it does. There is a finite number of possible assignments $\\{1,\\dots,k\\}\\to\\{1,\\dots,N\\}$, $\\frac{N!}{k!}$, so if we iterate forever we must have at some point repeated an assignment, but the sum of distances after the update step depends only on the assignment, so we contradict the proof that after each iteration the sum strictly decreases.\n",
    "\n",
    "Some doubts with k-means:\n",
    "- adhoc features: mean as rep, choice of distance, choice of K, result depends on initial choice of means.\n",
    "- the algorithm has no way of representing the size or shape of a cluster\n",
    "- 'hard' algorithm, treats borderline cases as equals.\n",
    "\n",
    "Let's see a variant called soft-K-means:"
   ]
  },
  {
   "cell_type": "code",
   "execution_count": 129,
   "metadata": {},
   "outputs": [
    {
     "name": "stdout",
     "output_type": "stream",
     "text": [
      "#-steps=273\n"
     ]
    },
    {
     "data": {
      "image/png": "[encoded data removed]",
      "text/plain": [
       "<Figure size 360x360 with 1 Axes>"
      ]
     },
     "metadata": {
      "needs_background": "light"
     },
     "output_type": "display_data"
    }
   ],
   "source": [
    "def soft_kmeans(X, d, beta=1, k=2):\n",
    "    # we need to initialize k representatives somehow\n",
    "    def assign():\n",
    "        r = np.zeros((k,X.shape[0]))\n",
    "        for i in range(k):\n",
    "            for j, x in enumerate(X):\n",
    "                r[i,j] = -beta*d(x, M[i])\n",
    "        r = np.exp(r)\n",
    "        r /= np.sum(r,axis=0)\n",
    "        return r\n",
    "    M = X[np.random.choice(X.shape[0], size=k, replace=False)]\n",
    "    r = assign()\n",
    "    for s in range(1000):\n",
    "#         plot_means(X, M, k_X, title=\"assign\")\n",
    "        M = (r@X)/np.sum(r,axis=1)[:,None]\n",
    "#         plot_means(X, M, k_X, title=\"sample mean\")\n",
    "        new_r = assign()\n",
    "        if (new_r == r).all():\n",
    "            break\n",
    "        r = new_r\n",
    "    print(f\"#-steps={s}\")\n",
    "    return M, r\n",
    "\n",
    "k = 2\n",
    "d = lambda x,y:np.linalg.norm(x-y)\n",
    "M, r = soft_kmeans(X, d, beta=0.7, k=k)\n",
    "k_X = np.array([-1]*X.shape[0])\n",
    "for i, x in enumerate(X):\n",
    "    k_X[i] = min(range(k),key=lambda j:d(x, M[j]))\n",
    "plot_means(X, M, k_X,title=\"soft k-means\")"
   ]
  },
  {
   "cell_type": "markdown",
   "metadata": {},
   "source": [
    "Now it can iterate forever, whats the halting rule? Maybe not, I suppose eventually this change in r is too small for the floating point precision?\n",
    "\n",
    "In the book he states that $\\beta$ is an inverse-length-squared (i'm not sure how to justify this), so $\\sigma=1/\\sqrt{\\beta}$, although I use the norm as a distance so maybe not square root. Anyway $\\beta$ is kind of like an expected size of the cluster, but we still can't handle different weight (some clusters may be under-represented in the data) or shape, and now we have another parameter.\n",
    "\n",
    "### Exercises\n",
    "The exercises deal with properties of soft k-means. Skipping for now.\n",
    "\n",
    "## Exact Inference by Complete Enumeration\n",
    "\n",
    "We will now see a nice use of bayesian probability in a \"real-life\" situation, and examine why enumerating and comparing all the possible hypotheses is not feasable.\n",
    "\n",
    "Fred lives in Los Angeles and commutes 60 miles to work. Whilst at work, his neighbour calls saying that Fred's burglar alarm is ringing. What is the probability there was a burglar in his house today? while driving home, he hears on the radio there was a small earthquake near his home. What is the probability there was a burglar in his house?\n",
    "\n",
    "We introduce the following variables:\n",
    "- $b$: burglar was present\n",
    "- $a$: the alarm is ringing\n",
    "- $p$: fred recieves a phonecall\n",
    "- $e$: a small earthquare takes place near house\n",
    "- $r$: the radio report of earthquake is heard by fred\n",
    "\n",
    "Then\n",
    "$$P(b,e,a,p,r)=P(b)P(e)O(a\\mid b,e)P(p\\mid a)P(r\\mid e)$$\n",
    "How did we reach this factorization? $P(a\\mid b,e)P(b)P(e)=P(b,e,a)$ ($b$ and $e$ can be considered independent, and the rest is from def). For the rest I'm not sure... Carrying on\n",
    "\n",
    "Plausible values:\n",
    "1. Burglar probability $P(b=1)=\\beta$, e.g. $\\beta=0.001$.\n",
    "2. Earthquake probability $P(e=1)=\\varepsilon$, $\\varepsilon=0.001$\n",
    "3. Alam ringing probability\n",
    "$$\\begin{align}\n",
    "P(a=0\\mid b=0,e=0)&=(1-f),                         & P(a=1\\mid b=0,e=0)&=f\\\\\n",
    "P(a=0\\mid b=1,e=0)&=(1-f)(1-\\alpha_b),             & P(a=1\\mid b=1,e=0)&=1-(1-f)(1-\\alpha_b)\\\\\n",
    "P(a=0\\mid b=0,e=1)&=(1-f)(1-\\alpha_e),             & P(a=1\\mid b=0,e=1)&=1-(1-f)(1-\\alpha_e)\\\\\n",
    "P(a=0\\mid b=1,e=1)&=(1-f)(1-\\alpha_e)(1-\\alpha_b), & P(a=1\\mid b=1,e=1)&=1-(1-f)(1-\\alpha_e)(1-\\alpha_b)\\\\\n",
    "\\end{align}$$\n",
    "with $f=0.001$ false alarm, $\\alpha_b=0.99$ reliability of burglar alarm when burglar enters house and $\\alpha_e=0.01$ probability of an earthquake trigerring an alarm.\n",
    "4. we also assume $P(p=1\\mid a=0)=0$ and $P(r=1\\mid e=0)=0$.\n",
    "\n",
    "We now have enough to calculate the posterior probability of $b$ and $e$,\n",
    "$$P(b,e\\mid a=1)=\\frac{P(a=1\\mid b,e)P(b)P(e)}{P(a=1)}$$"
   ]
  },
  {
   "cell_type": "code",
   "execution_count": 236,
   "metadata": {},
   "outputs": [
    {
     "name": "stdout",
     "output_type": "stream",
     "text": [
      "p(b|a=1)    =[0.50474487 0.49525513]\n",
      "p(b|e=1,a=1)=[0.91727797 0.08272203]\n"
     ]
    }
   ],
   "source": [
    "beta = 1e-3      # prior prob of burglar\n",
    "epsilon = 1e-3   # prior prob of earthquake\n",
    "f = 1e-3         # probability of unrelated alarm failure\n",
    "a_beta = 0.99    # accuracy of alarm when burglar intrudes\n",
    "a_eps = 1e-2     # prob of earthquake triggering alarm\n",
    "a_eq_0 = np.array([[1-f,(1-f)*(1-a_eps)] # cond prob, b rows and e columns\n",
    "                  ,[(1-f)*(1-a_beta), (1-f)*(1-a_beta)*(1-a_eps)]])\n",
    "a = np.stack([a_eq_0, 1- a_eq_0])\n",
    "b = np.array([1-beta,beta])\n",
    "e = np.array([1-epsilon,epsilon])\n",
    "p_a1 = b@a[1]@e\n",
    "p_be_a1 = b[:,None]*a[1]*e/p_a1\n",
    "p_b_a1 = np.sum(p_be_a1,axis=1)\n",
    "p_b_e1a1 = p_be_a1[:,1]/np.sum(p_be_a1[:,1])\n",
    "print(f\"p(b|a=1)    ={p_b_a1}\")\n",
    "print(f\"p(b|e=1,a=1)={p_b_e1a1}\")"
   ]
  },
  {
   "cell_type": "markdown",
   "metadata": {},
   "source": [
    "Theres definitely a better way to handle all the conditional probabilities. Graphical models?\n",
    "\n",
    "So just learning about the alaram gives us a 50% chance of having a burglar, but hearing about the earthquake reduces it down to 8%. Also, in the posterior, $b$ and $e$ are not independent!\n",
    "\n",
    "The phenomenon where one possible cause of some data becomes less probable when another of the causes becomes more probable, even though those two causes were independent variables _a priori_, is known as explaining away.\n",
    "\n",
    "To solve this inference questions we enumerated all four hypotheses $(b,e)$ and calculated the posterior probabilites, marginalizing to obtain the required information about $b$.\n",
    "\n",
    "**Exercise 21.2** After fred receives the phone-call about the burglar alarm, but before he hars the radio report, what, from his point of view, is the probability that there was a small earthquake today?  \n",
    "We want to know $P(e=1\\mid a=1)$. We'll marginalize $P(b,e\\mid a=1)$ over $b$."
   ]
  },
  {
   "cell_type": "code",
   "execution_count": 258,
   "metadata": {},
   "outputs": [
    {
     "data": {
      "text/plain": [
       "'P(e|a=1)=[0.99401242 0.00598758]'"
      ]
     },
     "execution_count": 258,
     "metadata": {},
     "output_type": "execute_result"
    }
   ],
   "source": [
    "f\"P(e|a=1)={np.sum(p_be_a1,axis=0)}\""
   ]
  },
  {
   "cell_type": "markdown",
   "metadata": {},
   "source": [
    "So the odds are now six times bigger, but still pretty small.\n",
    "\n",
    "### Exact inference for continuous hypothesis spaces\n",
    "\n",
    "Example: Inferring mean and std of gaussian from observed data. Here are plots of pdfs of 10X10 hypotheses for these parameters."
   ]
  },
  {
   "cell_type": "code",
   "execution_count": 321,
   "metadata": {
    "scrolled": false
   },
   "outputs": [
    {
     "data": {
      "image/png": "[encoded data removed]",
      "text/plain": [
       "<Figure size 576x576 with 100 Axes>"
      ]
     },
     "metadata": {
      "needs_background": "light"
     },
     "output_type": "display_data"
    }
   ],
   "source": [
    "from itertools import product\n",
    "n_mu = 10\n",
    "n_sigma = 10\n",
    "fig, ax = plt.subplots(n_mu, n_sigma,figsize=(8,8),sharex=True, sharey=True)\n",
    "x = np.linspace(-2,\n",
    "                4, 100)\n",
    "mu = np.linspace(-1,3,num=n_mu)\n",
    "sigma = np.linspace(0.2, 1.5, num=n_sigma)\n",
    "for i,j in product(range(n_mu), range(n_sigma)):\n",
    "    ax[i,j].plot(x, norm.pdf(x,loc=mu[j],scale=sigma[i]),\n",
    "           'r-', lw=3, alpha=0.6, label='norm pdf')\n",
    "    ax[i,j].spines['top'].set_visible(False)\n",
    "    ax[i,j].spines['right'].set_visible(False)\n",
    "    ax[i,j].spines['bottom'].set_visible(False)\n",
    "    ax[i,j].spines['left'].set_visible(False)\n",
    "    ax[i,j].axis('off')"
   ]
  },
  {
   "cell_type": "markdown",
   "metadata": {},
   "source": [
    "Now let's sample some data and see which hypothesis is more likely. The data is generated from a gaussian plus an outlier."
   ]
  },
  {
   "cell_type": "code",
   "execution_count": 305,
   "metadata": {
    "scrolled": false
   },
   "outputs": [
    {
     "data": {
      "image/png": "[encoded data removed]",
      "text/plain": [
       "<Figure size 504x144 with 1 Axes>"
      ]
     },
     "metadata": {
      "needs_background": "light"
     },
     "output_type": "display_data"
    }
   ],
   "source": [
    "samples = np.hstack([norm.rvs(loc=0.7,scale=0.2, size=4), 1.98])\n",
    "fig,ax = plt.subplots(figsize=(7,2))\n",
    "ax.scatter(samples, norm.rvs(loc=0.8,scale=0.1,size=5), marker='x')\n",
    "ax.set(title=\"data points\", xlim=[0,2.5], ylim=[0.5,1.5])\n",
    "ax.set_yticks([],[])\n",
    "for s in ('left','top','right'):\n",
    "    ax.spines[s].set_visible(False)"
   ]
  },
  {
   "cell_type": "code",
   "execution_count": 322,
   "metadata": {},
   "outputs": [
    {
     "data": {
      "image/png": "[encoded data removed]",
      "text/plain": [
       "<Figure size 576x576 with 100 Axes>"
      ]
     },
     "metadata": {
      "needs_background": "light"
     },
     "output_type": "display_data"
    }
   ],
   "source": [
    "fig, ax = plt.subplots(n_mu, n_sigma,figsize=(8,8),sharex=True, sharey=True)\n",
    "\n",
    "for i,j in product(range(n_mu), range(n_sigma)):\n",
    "    likelyhood = np.prod(norm.pdf(samples,loc=mu[j],scale=sigma[i]))\n",
    "    lw = 0 if likelyhood < np.exp(-10) else int(np.log(likelyhood)+11)\n",
    "    if lw > 0:\n",
    "        ax[i,j].plot(x, norm.pdf(x,loc=mu[j],scale=sigma[i]),\n",
    "               'r-', lw=lw, alpha=0.6, label='norm pdf')\n",
    "    ax[i,j].spines['top'].set_visible(False)\n",
    "    ax[i,j].spines['right'].set_visible(False)\n",
    "    ax[i,j].spines['bottom'].set_visible(False)\n",
    "    ax[i,j].spines['left'].set_visible(False)\n",
    "    ax[i,j].axis('off')"
   ]
  },
  {
   "cell_type": "markdown",
   "metadata": {},
   "source": [
    "The line width marks which hypothesis is more likely, with hypotheses with likelyhood less than $e^{-10}$ removed.\n",
    "\n",
    "The likelyhood function is\n",
    "$$P(x\\mid \\mu,\\sigma)=\\frac1{\\sqrt{2\\pi}\\sigma}\\exp{\\left(-\\frac{(x-\\mu)^2}{2\\sigma^2}\\right)}$$\n",
    "As a function of $\\mu,\\sigma$.\n",
    "\n",
    "As we said, the data is with an outlier, so it is perhaps more likely it came from a gaussian mixture model ($0\\leq\\beta\\leq1$)\n",
    "$$P(x\\mid \\mu_1,\\sigma_1,\\beta,\\mu_2,\\sigma_2)=\\frac\\beta{\\sqrt{2\\pi}\\sigma_1}\\exp{\\left(-\\frac{(x-\\mu_1)^2}{2\\sigma_1^2}\\right)}+\\frac{1-\\beta}{\\sqrt{2\\pi}\\sigma_2}\\exp{\\left(-\\frac{(x-\\mu_2)^2}{2\\sigma_2^2}\\right)}$$\n",
    "\n",
    "Again we can enumerate all subhypotheses, but now we have a five dimensional space, so even when discretized the amount of hypotheses grows exponentially. \n",
    "\n",
    "We can compare the two models by evaluating the marginal likelihood or evidence for each model $\\hyp$. We need to integrate over the parameters $\\theta$, or instead summing over the subhypotheses sampled (we take the distribution over $\\theta$ to be uniform).\n",
    "$$P(\\{x\\}\\mid\\hyp)=\\sum_\\theta P(\\theta)P(\\{x\\}\\mid\\theta,\\hyp)$$\n",
    "The author claims that if the uncertainty about each of $K$ parameters has been reduced by a factor of ten by observing the data, then brute-force integration requires a grid of at least $10^K$ points (i think because the integral becomes finer)."
   ]
  },
  {
   "cell_type": "markdown",
   "metadata": {},
   "source": [
    "## Maximum Likelihood and Clustering\n",
    "TBD"
   ]
  },
  {
   "cell_type": "markdown",
   "metadata": {},
   "source": [
    "## Useful Probability Distributions\n",
    "TBD"
   ]
  },
  {
   "cell_type": "markdown",
   "metadata": {},
   "source": [
    "## Exact Marginalization\n",
    "TBD\n",
    "+Trelisses, Graphs"
   ]
  },
  {
   "cell_type": "markdown",
   "metadata": {},
   "source": [
    "## Laplace's Method\n",
    "TBD"
   ]
  },
  {
   "cell_type": "markdown",
   "metadata": {},
   "source": [
    "## Model Comparison and Occam's Razor\n",
    "TBD"
   ]
  },
  {
   "cell_type": "markdown",
   "metadata": {},
   "source": [
    "## Monte Carlo Methods"
   ]
  },
  {
   "cell_type": "markdown",
   "metadata": {},
   "source": [
    "We want to solve two problems  \n",
    "**Problem 1:** to generate samples $\\{\\vec x^{(r)}\\}_{r=1}^R$ from a given probability distribution $P(\\vec x)$.  \n",
    "**Problem 2:** to estimate expectations of functions under this distribution, for example\n",
    "$$\\left<\\phi(\\vec x)\\right>=\\int d^N\\vec xP(\\vec x)\\phi(\\vec x)$$\n",
    "\n",
    "Why? if $P(\\vec x)$ is the posterior of our inference problem, perhaps we want to sample some possible parameters and see how they vary. The second problem can be used, beyond mere estimation of moments, to answer questions such as how likely it is that such and such happens and use $\\phi$ as some $\\mathbb{1}$ function.\n",
    "\n",
    "Keep in mind that the only sampling method I know of is the one akin to stream code, and that requires a discrete (and finite?) distribution.\n",
    "\n",
    "If we solve the first problem, we could solve the second using the sample mean estimator\n",
    "$$\\hat\\phi=\\frac1R\\sum_r\\phi(\\vec x^{(r)}$$\n",
    "An interesting observation is that the variance of $\\hat\\phi$ doesn't depend on the dimensionality of $\\vec x$ but the variance of $\\phi$.\n",
    "\n",
    "### Why is sampling from $P(\\vec x)$ hard?\n",
    "We assume we can evaluate $P^*(\\vec x)$ s.t\n",
    "$$P(\\vec x)=P^*(\\vec x)/Z$$\n",
    "Why can we not easily solve probelm 1?"
   ]
  }
 ],
 "metadata": {
  "kernelspec": {
   "display_name": "Python 3",
   "language": "python",
   "name": "python3"
  },
  "language_info": {
   "codemirror_mode": {
    "name": "ipython",
    "version": 3
   },
   "file_extension": ".py",
   "mimetype": "text/x-python",
   "name": "python",
   "nbconvert_exporter": "python",
   "pygments_lexer": "ipython3",
   "version": "3.7.6"
  }
 },
 "nbformat": 4,
 "nbformat_minor": 4
}
