{
 "cells": [
  {
   "cell_type": "code",
   "execution_count": 6,
   "metadata": {},
   "outputs": [],
   "source": [
    "import numpy as np\n",
    "import matplotlib.pyplot as plt\n",
    "from scipy.stats import entropy, binom, bernoulli\n",
    "from functools import partial\n",
    "entropy=partial(entropy, base=2)\n",
    "np.random.seed = 42"
   ]
  },
  {
   "cell_type": "markdown",
   "metadata": {},
   "source": [
    "Latex macros\n",
    "$\\renewcommand{\\vec}[1]{\\mathbf{#1}}$\n",
    "$\\renewcommand{\\ex}[1]{\\mathbb{E}\\left[{#1}\\right]}$\n",
    "$\\renewcommand{\\dkl}[2]{D_\\text{KL}\\left(\\mathbf{#1\\|#2}\\right)}$\n",
    "$\\renewcommand{\\hyp}{\\mathcal{H}}$\n",
    "$\\renewcommand{\\soin}{s_\\text{in}}$\n",
    "$\\renewcommand{\\sout}{s_\\text{out}}$"
   ]
  },
  {
   "cell_type": "markdown",
   "metadata": {},
   "source": [
    "# Noisy-Channel Coding\n",
    "\n",
    "## Dependent Random Variables\n",
    "\n",
    "Preliminary mathematics needed for the upcoming topics. Entropies and information and it's all conditional and stuff.\n",
    "\n",
    "### Definition time:  \n",
    "**Joint entropy** \n",
    "$$H(X,Y)=\\sum_{xy\\in A_X A_Y}P(x,y)\\log\\frac1{P(x,y)}$$  \n",
    "**Conditional entropy of $X$ given $y=b_k$** \n",
    "$$H(X\\mid y=b_k)=\\sum_{x\\in A_X}P(x\\mid y=b_k)\\log\\frac1{P(x\\mid y=b_k)}$$\n",
    "**Conditional entropy of $X$ given $Y$**\n",
    "$$\\begin{align}\n",
    "H(X\\mid Y) &= \\sum_{y\\in\\mathcal{A}_Y}P(y)\\left[\\sum_{x\\in\\mathcal{A}_X}P(x\\mid y)\\log\\frac1{P(x\\mid y)}\\right] \\\\\n",
    "&= \\sum_{xy\\in\\mathcal{A}_X\\mathcal{A}_Y}P(x,y)\\log\\frac1{P(x\\mid y)}\n",
    "\\end{align}$$\n",
    "**Chain rule for information content**\n",
    "$$h(x,y)=h(x)+h(y\\mid x)$$\n",
    "**Chain rule for entropy**\n",
    "$$H(X,Y)=H(X)+H(Y\\mid X)$$\n",
    "**Mutual information**\n",
    "$$I(X;Y)=H(X)-H(X\\mid Y)$$\n",
    "**Conditional mutual information**\n",
    "$$I(X;Y\\mid z=c_k)=H(X\\mid z=c_k)-H(X\\mid Y,z=c_k)$$\n",
    "$$I(X;Y\\mid Z)=H(X\\mid Z)-H(X\\mid Y,Z)$$\n"
   ]
  },
  {
   "cell_type": "markdown",
   "metadata": {},
   "source": [
    "\n",
    "### Exercises\n",
    "**Exercise 8.1** $u,v,w$ independent with entropies $H_u,H_v,H_w$, $X=(U,V)$, $Y=(V,W)$.\n",
    "Joint entropy\n",
    "$$\\begin{align}\n",
    "H(X,Y) &= \\sum_{x\\in X,y\\in Y}p(x,y)\\log\\frac1{p(x,y)} \\\\\n",
    "&= \\sum_{u,v\\in X, v',w\\in Y}p(u,v,v',w)\\log\\frac1{p(u,v,v',w} &\\text{if $v\\neq v'$ $p=0$} \\\\\n",
    "&=\\sum_{u,v,w}p(u)p(v)p(w)\\left(\\log\\frac1{p(u)}+\\log\\frac1{p(v)}+\\log\\frac1{p(w)}\\right) \\\\\n",
    "&=\\sum_up(y)\\sum_vp(v)\\sum_wp(w)\\left(\\log\\frac1{p(u)}+\\log\\frac1{p(v)}+\\log\\frac1{p(w)}\\right) \\\\\n",
    "&=\\sum_up(y)\\sum_vp(v)\\left(\\log\\frac1{p(u)}+\\log\\frac1{p(v)}+H_w\\right) \\\\\n",
    "&=\\sum_up(y)\\left(\\log\\frac1{p(u)}+H_v+H_w\\right) \\\\\n",
    "&=H_u+H_v+H_w\n",
    "\\end{align}$$\n",
    "\n",
    "Conditional entropy  \n",
    "$$\\begin{align}\n",
    "H(X\\mid Y) &= \\sum_yp(y)\\sum_xp(x\\mid y)\\log\\frac1{p(x\\mid y)} \\\\\n",
    "&= \\sum_{xy}p(x,y)\\log\\frac1{p(x\\mid y)} \\\\\n",
    "&= \\sum_{uvw}p(u,v,w)\\log\\frac1{p(u,v\\mid v,w)} & {\\scriptstyle p(u,v\\mid v,w)=\\frac{p(u,v,w)}{p(v,w)}=\\frac{p(u)p(v)p(w)}{p(v)p(w)}}\\\\\n",
    "&= \\sum_{uvw}p(u,v,w)\\log\\frac1{p(u)} \\\\\n",
    "&= H_u\n",
    "\\end{align}$$\n",
    "Mutual information  \n",
    "$$I(X;Y)=H(X)-H(X\\mid Y)=(H_u+H_v)-H_u=H_v$$\n",
    "So it all makes sense.\n",
    "\n",
    "**Exercise 8.2** Find an example for $H(X)<H(X\\mid y=b_k)$, but show that $H(X\\mid Y)\\leq H(X)$.  \n",
    "\n",
    "|      | $$x=0$$ | $$x=1$$ | $$p(y)$$   |\n",
    "| ---- |:-----:|:-----:|:-----:|\n",
    "|$y=0$|0.25|0.25| 0.5 |\n",
    "|$y=1$|0.4|0.1| 0.5|\n",
    "|$p(x)$|0.65|0.35| |\n"
   ]
  },
  {
   "cell_type": "code",
   "execution_count": 19,
   "metadata": {},
   "outputs": [
    {
     "data": {
      "text/plain": [
       "'H(X)=0.934, H(X|y=0)=1.0, H(X|Y)=0.861'"
      ]
     },
     "execution_count": 19,
     "metadata": {},
     "output_type": "execute_result"
    }
   ],
   "source": [
    "H_X = .65*np.log2(1/.65) + .35*np.log2(1/.35)\n",
    "H_XCY0 = 0.5*np.log2(2) + .5*np.log2(2)\n",
    "H_XCY1 = .8*np.log2(1/.8) + .2*np.log2(1/.2)\n",
    "f\"H(X)={H_X:.3f}, H(X|y=0)={H_XCY}, H(X|Y)={0.5*H_XCY0+0.5*H_XCY1:.3f}\""
   ]
  },
  {
   "cell_type": "markdown",
   "metadata": {},
   "source": [
    "$$H(X)-H(X\\mid Y)=\\sum_{xy}p(x,y)\\log\\frac{p(x\\mid y)}{p(x)}\n",
    "=\\sum_{xy}p(x,y)\\log\\frac{p(x,y)}{p(x)p(y)}$$\n",
    "\n",
    "Let's mark $q(x,y)=p(x)p(y)$ (it's a distribution), then we get\n",
    "$$\\sum_{xy}p(x,y)\\log\\frac{p(x,y)}{p(x)p(y)}=\\dkl{P}{Q}\\geq0$$\n",
    "from Gibbs' inequality.\n",
    "\n",
    "**Exercise 8.3** Prove the chain rule for entropy.  \n",
    "$$\\begin{align}\n",
    "H(X)+H(Y|X)&=\\sum_{x}p(x)\\log\\frac1{p(x)}+\\sum_{xy}p(x,y)\\log\\frac1{p(y\\mid x)} \\\\\n",
    "&=\\sum_{xy}p(x,y)\\log\\frac1{p(x)p(y\\mid x)}\\\\\n",
    "&=\\sum_{xy}p(x,y)\\log\\frac1{p(x,y)}=H(X,Y)\n",
    "\\end{align}$$\n",
    "\n",
    "**Exercise 8.4** Prove $I(X;Y)=I(Y;X)\\geq0$  \n",
    "$$\\begin{align}\n",
    "I(X;Y)&=I(Y;X) \\\\\n",
    "H(X)-H(X\\mid Y) &= H(Y)-H(Y\\mid X)\\\\\n",
    "H(X)+H(Y\\mid X) &= H(Y)+H(X\\mid Y)\\\\\n",
    "H(X,Y) &= H(X,Y)\n",
    "\\end{align}$$\n",
    "Regarding $I(X;Y)\\geq0$, we showed in **8.2** that $H(X)-H(X\\mid Y)\\geq0$ but by definition $H(X)-H(X\\mid Y)=I(X;Y)$.\n",
    "\n",
    "**Exercise 8.5** Prove $D_H(X,Y)=H(X,Y)-I(X;Y)$ is a metric.  \n",
    "- $D_H(X,Y)\\geq0$: $H(X,Y)-I(X;Y)=H(X)+H(Y\\mid X)-\\left(H(X)-H(X\\mid Y)\\right)=H(Y\\mid X)+H(X\\mid Y)\\geq0$.\n",
    "- $D_H(X,X)=0$: $H(X,X)-I(X;X)=H(X)-\\left(H(X)-H(X\\mid X)\\right)=H(X)-H(X)+0=0$.\n",
    "- $D_H(X,Y)=D_H(Y,X)$: $H(X,Y)-I(X;Y)=H(Y,X)-I(Y;X)$.\n",
    "- $D_H(X,Z)\\leq D_H(X,Y)+D_H(Y,Z)$: $D_H(X,Y)=P(X\\mid Y)+P(Y\\mid X)$. So we'll see $P(X\\mid Z)\\leq P(X\\mid Y)+P(Y\\mid Z)$ and $P(Z\\mid X)\\leq P(Y\\mid X)+P(Z\\mid Y)$.\n",
    "$$\\begin{align}\n",
    "P(X\\mid Z)&\\leq P(X\\mid Y)+P(Y\\mid Z) \\\\\n",
    "\\sum_{xz}p(x,z)\\log\\frac1{p(x\\mid z)}&\\leq\\sum_{xy}p(x,y)\\log\\frac1{p(x\\mid y)}+\\sum_{yz}p(y,z)\\log\\frac1{p(y\\mid z)} \\\\\n",
    "\\sum_{xyz}p(x,y,z)\\log\\frac1{p(x\\mid z)}&\\leq\\sum_{xyz}p(x,y,z)\\log\\frac1{p(x\\mid y)}+\\sum_{xyz}p(x,y,z)\\log\\frac1{p(y\\mid z)} \\\\\n",
    "0&\\leq\\sum_{xyz}p(x,y,z)\\log\\frac1{p(x\\mid y)}+p(x,y,z)\\log\\frac1{p(y\\mid z)}-p(x,y,z)\\log\\frac1{p(x\\mid z)}\\\\\n",
    "0&\\leq\\sum_{xyz}p(x,y,z)\\left[\\log\\frac1{p(x\\mid y)}+\\log\\frac1{p(y\\mid z)}-\\log\\frac1{p(x\\mid z)}\\right]\\\\\n",
    "0&\\leq\\sum_{xyz}p(x,y,z)\\log\\frac{p(x\\mid z)}{p(x\\mid y)p(y\\mid z)}\\\\\n",
    "0&\\leq\\sum_{xyz}p(x,y,z)\\log\\frac{p(x, z)}{p(x\\mid y)p(y,z)}\\\\\n",
    "\\end{align}$$\n",
    "We will use Gibbs. First, $q(x,y,z)=p(x\\mid y)p(y,z)$ is a distribution as it sums to 1 and it is non-negative. Secondly,\n",
    "$$\\sum_{xyz}p(x,y,z)\\log\\frac{p(x, z)}{p(x\\mid y)p(y,z)}\\geq\\sum_{xyz}p(x,y,z)\\log\\frac{p(x,y,z)}{p(x\\mid y)p(y,z)}$$\n",
    "since log is monotonic-increasing, and now from Gibbs\n",
    "$$\\sum_{xyz}p(x,y,z)\\log\\frac{p(x,y,z)}{p(x\\mid y)p(y,z)}\\geq 0$$\n",
    "so the original inequality is true. The proof for the $P(Z\\mid X)\\leq P(Y\\mid X)+P(Z\\mid Y)$ is symmetric.  \n",
    "\n",
    "_I first tried to prove triangle inequality from definitions and algebraic manipulation, but I got into ciruclarity. Then I remembered that to prove $H(X\\mid Y)\\leq H(X)$ I used Gibbs, so even though the intuition divides the information nicely into parts $H(X\\mid Y)+I(X;Y)$, you can't use the definition to prove it._\n",
    "\n",
    "**Exercise 8.7** XYZ ensemble, all with alphabet $\\{0,1\\}$, $x$ and $y$ independent, $\\mathcal P_X=\\{p,1-p\\}$, $\\mathcal P_Y=\\{q,1-q\\}$ and\n",
    "$$z=(x+y)\\mod 2$$\n",
    "1. if $q=\\frac12$ the $\\mathcal P_Z$ is unbiased coin, and $I(Z;X)=0$.\n",
    "2. $p(z=0)=p(x=0, y=0)+p(x=1,y=1)=pq+(1-p)(1-q)=1-p-q+2pq$  \n",
    "   $p(z=1)=p+q-2pq$. $I(Z;X)=H(Z)-H(Z\\mid X)$  \n",
    "   $H(Z)=(2pq-p-q+1)\\log\\frac1{2pq-p-q+1}+(p+q-2pq)\\log\\frac1{p+q-2pq}$  \n",
    "   $H(Z\\mid X)=pq\\log\\frac1q+(1-p)(1-q)\\log\\frac1{1-q}+p(1-q)\\log\\frac1{1-q}+(1-p)q\\log\\frac1q=q\\log\\frac1q+(1-q)\\log\\frac1{1-q}$"
   ]
  },
  {
   "cell_type": "markdown",
   "metadata": {},
   "source": [
    "## Communication over a Noisy Channel\n",
    "We will now explore the fundamental possibilities and limitations of error-free communication through a noisy channel. The aim of channel coding is to make the noisy channel behave like a noiseless channel.\n",
    "\n",
    "**A discrete memory less channel** $Q$ is a triplet $\\left\\{\\mathcal{A}_X, \\mathcal{A}_Y,\\{P(y\\mid x)\\colon x\\in\\mathcal{A}_X\\}\\right\\}$.  \n",
    "The transition probabilities may be written in a matrix\n",
    "$$Q_{j\\mid i}=P(y=b_j\\mid x=a_i)$$\n",
    "The matrix is oriented such that each column is a probability vector.\n",
    "\n",
    "Example channels: Binary symmetric, Binary erasure, Noisy typewriter, Z channel.\n",
    "\n",
    "If we assume a probability distribution on the input, we can use Bayes' theorem to infer the posterior\n",
    "$$P(x\\mid y)=\\frac{P(y\\mid x)p(x)}{P(y)}$$\n",
    "\n",
    "**Exercise 9.2** Binary symmetric channel with probability of error $f=0.15$. $\\mathcal{P}_X\\colon\\{p_0=0.9,p_1=0.1\\}$. We observe $y=0$, what is $P(x=1\\mid y=0)$?\n",
    "$$\\begin{align}\n",
    "P(x=1\\mid y=0)&=\\frac{p(y=0\\mid x=1)p(x=1)}{\\sum_{x'}p(y=0\\mid x')p(x')}\\\\\n",
    "&=\\frac{0.15\\times0.1}{0.15\\times0.1+0.85\\times0.9}\\\\\n",
    "&=\\frac{1}{52}\n",
    "\\end{align}$$"
   ]
  },
  {
   "cell_type": "code",
   "execution_count": 44,
   "metadata": {},
   "outputs": [
    {
     "data": {
      "text/plain": [
       "Fraction(1, 52)"
      ]
     },
     "execution_count": 44,
     "metadata": {},
     "output_type": "execute_result"
    }
   ],
   "source": [
    "from fractions import Fraction as frac\n",
    "f=frac('0.15')\n",
    "q=[[1-f,f]\n",
    "  ,[f,1-f]]\n",
    "p_x=[frac('0.9'),frac('0.1')]\n",
    "q[0][1]*p_x[1]/(q[0][0]*p_x[0]+q[0][1]*p_x[1])"
   ]
  },
  {
   "cell_type": "markdown",
   "metadata": {},
   "source": [
    "**Exercise 9.4** Z channel with $f=0.15$ and $\\mathcal{P}_X\\colon\\{p_0=0.9,p_1=0.1\\}$. Assume we observe $y=0$, what is $P(x=1\\mid y=0)$?\n",
    "$$\\begin{align}\n",
    "P(x=1\\mid y=0)&=\\frac{p(y=0\\mid x=1)p(x=1)}{\\sum_{x'}p(y=0\\mid x')p(x')}\\\\\n",
    "&=\\frac{1}{61}\n",
    "\\end{align}$$"
   ]
  },
  {
   "cell_type": "code",
   "execution_count": 41,
   "metadata": {},
   "outputs": [
    {
     "data": {
      "text/plain": [
       "Fraction(1, 61)"
      ]
     },
     "execution_count": 41,
     "metadata": {},
     "output_type": "execute_result"
    }
   ],
   "source": [
    "f=frac('0.15')\n",
    "q=[[1,f]\n",
    "  ,[0,1-f]]\n",
    "p_x=[frac('0.9'),frac('0.1')]\n",
    "q[0][1]*p_x[1]/(q[0][0]*p_x[0]+q[0][1]*p_x[1])"
   ]
  },
  {
   "cell_type": "markdown",
   "metadata": {},
   "source": [
    "### Information conveyed by a channel\n",
    "Operationaly, we want to find ways to use the channel such that all the bits communicated are recovered with negligible probability of error. Mathematically, we use mutual information to measure how much information the output conveys about the input. How are the two connected?\n",
    "\n",
    "**Exercise 9.7** Compute $I(X;Y)$ for binary symmetric channel with $f=0.15$, $\\mathcal P_X=\\left\\{p_0=0.5,p_1=0.5\\right\\}$.\n",
    "$$I(X;Y)=H(Y)-H(Y\\mid X)$$\n",
    "$$\\mathcal{P}_Y=\\{0.5,0.5\\}\\Rightarrow H(Y)=1$$\n",
    "$$H(Y\\mid X)=h_2(0.15)=0.61$$\n",
    "$$H(Y)-H(Y\\mid X)=1-0.61=0.39$$"
   ]
  },
  {
   "cell_type": "code",
   "execution_count": 100,
   "metadata": {},
   "outputs": [
    {
     "data": {
      "text/plain": [
       "0.3901596952835995"
      ]
     },
     "execution_count": 100,
     "metadata": {},
     "output_type": "execute_result"
    }
   ],
   "source": [
    "f=0.15\n",
    "q=np.array([[1-f,f]\n",
    "           ,[f,1-f]])\n",
    "p_x=np.array([.5,.5])\n",
    "p_y=[q[0]@p_x,q[1]@p_x]\n",
    "entropy(p_y) - entropy(q)@p_x"
   ]
  },
  {
   "cell_type": "markdown",
   "metadata": {},
   "source": [
    "**Exercise 9.7** Compute $I(X;Y)$ for Z channel with $f=0.15$, $\\mathcal P_X=\\left\\{p_0=0.5,p_1=0.5\\right\\}$."
   ]
  },
  {
   "cell_type": "code",
   "execution_count": 99,
   "metadata": {},
   "outputs": [
    {
     "data": {
      "text/plain": [
       "0.6787881102649855"
      ]
     },
     "execution_count": 99,
     "metadata": {},
     "output_type": "execute_result"
    }
   ],
   "source": [
    "f=0.15\n",
    "q=np.array([[1,f]\n",
    "           ,[0,1-f]])\n",
    "p_x=np.array([.5,.5])\n",
    "p_y=[q[0]@p_x,q[1]@p_x]\n",
    "entropy(p_y) - entropy(q)@p_x"
   ]
  },
  {
   "cell_type": "markdown",
   "metadata": {},
   "source": [
    "**The capacity** of a channel $Q$ is:\n",
    "$$C(Q)=\\max_{\\mathcal{P}_X}I(X;Y)$$\n",
    "\n",
    "**Exercise 9.12** What is the capacity of the binary symmetric channel for general $f$?  \n",
    "Let's see what we need to evaluate:\n",
    "$$I(X;Y)=H(Y)-H_2(f)$$\n",
    "So how does $H(Y)$ depends on $\\mathcal P_X$?\n",
    "$$\\begin{align}\n",
    "P(y=0)&=P(y=0\\mid x=0)P(x=0)+P(y=0\\mid x=1)P(x=1)\\\\\n",
    "&=(1-f)(1-p_1)+fp_1\\\\\n",
    "&=1-p_1-f+2fp_1\n",
    "\\end{align}$$\n",
    "So, $H(Y)=H_2(1-p_1-f+2fp_1)$. Since $P(Y\\mid X)$ doesn't depend on $\\mathcal P_X$ we only need to consider $p_1$ that maximizes $H(Y)$. We know $\\text{argmax} H_2(p)=0.5$ so\n",
    "$$1-p_1-f+2fp_1=0.5\\\\\n",
    "p_1(2f-1)=f-0.5\\\\\n",
    "p_1=\\frac{f-0.5}{2f-1}\\\\\n",
    "p_1=\\frac12\n",
    "$$\n",
    "The uniform distribution is the optimal input distribution (assuming $f\\neq0.5$, otherwise $p_1$ is canceled out and doesnt affect $H(Y)$).\n",
    "\n",
    "**Exercise 9.13** Show the capacity of the binary erasure channel with $f=0.15$ is $C_\\text{BEC}=0.85$."
   ]
  },
  {
   "cell_type": "code",
   "execution_count": 113,
   "metadata": {},
   "outputs": [
    {
     "data": {
      "text/plain": [
       "0.8499999999999999"
      ]
     },
     "execution_count": 113,
     "metadata": {},
     "output_type": "execute_result"
    }
   ],
   "source": [
    "f=0.15\n",
    "q=np.array([[1-f,0]\n",
    "           ,[f,f]\n",
    "           ,[0,1-f]])\n",
    "p_x=np.array([.5,.5])\n",
    "p_y=q@p_x\n",
    "entropy(p_y) - entropy(q)@p_x"
   ]
  },
  {
   "cell_type": "markdown",
   "metadata": {},
   "source": [
    "Same as before the entropy of $P(y\\mid x)$ is identical regardless of x so $H(Y\\mid X)$ doesn't depend on $\\mathcal P_X$. What about $H(Y)$?\n",
    "$$\\bar{P_Y}=\n",
    "\\begin{bmatrix}\n",
    "(1-f)(1-p_1)\\\\\n",
    "f\\\\\n",
    "(1-f)p_1\n",
    "\\end{bmatrix}$$\n",
    "\n",
    "It's easy to show that the maximum is achieved when $p_1=0.5$ and then as shown above $I(X;Y)=0.85$.\n",
    "\n",
    "Let's calculate it for the general case...\n",
    "$$\\begin{align}\n",
    "H(Y)&=(1-f)(1-p_1)h((1-f)(1-p_1))+fh(f)+(1-f)p_1h((1-f)p_1)\\\\\n",
    "&=(1-f)((1-p_1)(h(1-f)+h(1-p_1))+p_1(h(1-f)+h(p_1)))+fh(f)\\\\\n",
    "&=(1-f)h(1-f)+(1-f)(h_2(p_1))+fh(f)\\\\\n",
    "&=h_2(f)+(1-f)h_2(p_1)\n",
    "\\end{align}$$\n",
    "_at first I mistook $h$ for $h_2$_  \n",
    "So, $I(X;Y)=h_2(f)+(1-f)h_2(p_1)-h_2(f)=(1-f)h_2(p_1)$ and we also showed that it is maximized when $p_1=0.5$, so $C=1-f$.\n",
    "\n",
    "### Definition time\n",
    "**An $(N,K)$ block code** for channel $Q$ is a list of $S=2^K$ codewords\n",
    "$$\\{\\vec x_1,\\dots,\\vec x_{2^k}\\}, \\vec x_i\\in\\mathcal A_X^N$$\n",
    "The rate of the code is $R=K/N$ bits per channel use.\n",
    "\n",
    "**A decoder** for $(N,K)$ block code is a mapping $\\mathcal A_Y^N\\to\\{0,1,\\dots,2^k\\}$.\n",
    "\n",
    "**The probability of block error** of a code and decoder given channel and probability distribution over the encoded signal $P(\\soin)$ is\n",
    "$$p_\\text{B}=\\sum_{\\soin}p(\\soin)p(\\sout\\neq\\soin\\mid\\soin)$$\n",
    "\n",
    "**The maximal probability of block error** os\n",
    "$$p_\\text{BM}=\\max_{\\soin}P(\\sout\\neq\\soin\\mid\\soin)$$\n",
    "\n",
    "**The optimal decoder** for a channel code is the one that minimzes the probability of block error. It decodes an output $\\vec y$ as the input $s$ that has maximum posterior probability $P(s\\mid\\vec y)$ (MAP).\n",
    "\n",
    "**The probability of bit error** $p_\\text{b}$ is defined assuming the the codeword number $s$ is represent by a binary vector $\\vec s$ of length $K$ bits; it is the average probability that a bit of $\\sout$ is not equal to the corresponding bit of $\\soin$ (averaging over all $K$ bits).\n",
    "\n",
    "Now we will state the main theorem of this part:  \n",
    "**Shannon's noisy-channel coding theorem** Associated with each discrete memoryless channel is a non-negative number $C$, the channel capcity with the property that for any $\\varepsilon>0$ and $R<C$, for $N$ large enough, there exists a block code of length $N$ and rate $\\geq R$ and a decoding algorithm, such that $p_\\text{BM}<\\varepsilon$.\n",
    "\n",
    "In the book, the noisy typewriter channel is used as an example for the theorem, we can choose a non-confusable subset of input letters. It is also a motivation for the proof, as for large $N$ the transition matrix looks more and more like a noisy typewriter. A sketch of the proof then follows, but it is confusing, hopefully the proof itself will be clear.\n",
    "\n",
    "\n",
    "\n",
    "**Exercise 9.14** Find the transition probability matrices $\\vec Q$ for the 2-extended channel derived from the binary erasure channel with $f=0.15$.\n",
    "\n",
    "|      | 00 | 01 | 10   | 11   |\n",
    "| ---- |:-----:|:-----:|:-----:|:-----:|\n",
    "|**00**|(1-f)(1-f)|0|0| 0|\n",
    "|**0?**|(1-f)(f)|(1-f)(f)|0|0|\n",
    "|**01**|0|(1-f)(1-f)|0|0|\n",
    "|**10**|0|0|(1-f)(1-f)|0|\n",
    "|**1?**|0|0|(1-f)f|(1-f)f|\n",
    "|**11**|0|0|0|(1-f)(1-f)|\n",
    "|**?0**|f(1-f)|0|f(1-f)|0|\n",
    "|**??**|f\\*f|f\\*f|f\\*f|f\\*f|\n",
    "|**?1**|0|f(1-f)|0|f(1-f)|\n",
    "\n",
    "If we choose either $(00,11)$ or $(01,10)$ as codewords we gain a code with no possible decoding error, but with a failure probability of $f^2$. The decoding algorithm will be (in the first case) choosing 00 or 11 according to atleast one presence of those digits.\n",
    "\n",
    "\n",
    "### Further exercises\n",
    "**Exercise 9.15** Z channel, $f=0.15$.\n",
    "1. Why is optimal $p_1$ less than $0.5$? In general for $\\alpha\\in[0,0.5)$ it is better when $p_1=\\alpha$ than the opposite, since the entropy of the source $H(X)$ is the same but the conditional $H(X\\mid Y)=p(y=0)H(X\\mid y=0)+0$ is something something darkside...\n",
    "2. \n",
    "$$I(X;Y)=H_2(p_1(1-f))-p_1H_2(f)$$\n",
    "3. The first step is to poke around and see what everything converges to. I was curious about $2^\\frac{H_2(f)}{(1-f)}$   \n",
    "$$\\frac{H_2(f)}{(1-f)}=\\frac{f\\log1/f+(1-f)\\log1/(1-f)}{1-f}=\\frac{f}{1-f}\\log1/f+\\log1/(1-f)$$\n",
    "So $$2^\\frac{H_2(f)}{(1-f)}=2^{\\frac{f}{1-f}\\log1/f}\\frac1{1-f}$$\n",
    "Now, after some pondering and remembering the [inequality](https://math.stackexchange.com/questions/324345/intuition-behind-logarithm-inequality-1-frac1x-leq-log-x-leq-x-1)\n",
    "$$1-\\frac1x\\leq\\log x\\leq x-1\\qquad\\text{for }x>0$$\n",
    "We can show that $\\frac f{1-f}\\log\\frac1f\\xrightarrow{f\\to1}\\log_2\\mathrm{e}$, so if we mark $\\alpha=\\frac1{1-f}$ and $\\beta=2^{\\frac{f}{1-f}\\log1/f}$ then\n",
    "$$\\frac{\\alpha}{1+\\beta\\alpha}\\to\\frac1{\\beta}=\\frac1{\\mathrm{e}}$$, and $p_1^*\\to\\frac1{\\mathrm{e}}$.\n",
    "\n",
    "**Exercise 9.16** Sketch graphs of the capacity of the ZC, the BSC and BEC as a function of f."
   ]
  },
  {
   "cell_type": "code",
   "execution_count": 65,
   "metadata": {},
   "outputs": [
    {
     "data": {
      "image/png": "[encoded data removed]",
      "text/plain": [
       "<Figure size 432x432 with 2 Axes>"
      ]
     },
     "metadata": {
      "needs_background": "light"
     },
     "output_type": "display_data"
    }
   ],
   "source": [
    "def h2(a):\n",
    "    return entropy(np.stack([a,1-a]))\n",
    "\n",
    "f = np.linspace(0.001, 1, num=1000, endpoint=False)\n",
    "c_bec = 1 - f\n",
    "c_bsc = 1 - h2(f)\n",
    "\n",
    "p1_bzc = (1/(1-f))/(1+2**(h2(f)/(1-f)))\n",
    "c_bzc = h2(p1_bzc*(1-f))-p1_bzc*h2(f)\n",
    "fig, (ax1, ax2) = plt.subplots(nrows=2,figsize=(6,6))\n",
    "ax1.plot(f, c_bec,label=\"BEC\")\n",
    "ax1.plot(f, c_bsc,label=\"BSC\")\n",
    "ax1.plot(f, c_bzc,label=\"BZC\")\n",
    "ax1.legend()\n",
    "ax1.set(title='Capacity of channels as a function of $f$', xlabel='$f$', ylabel='Capacity');\n",
    "ax2.plot(f,p1_bzc, label=\"$p_1^*$\")\n",
    "ax2.plot(f,[1/np.e]*f.size, linestyle='dashed',label='1/e')\n",
    "ax2.set(title=\"$p_1^*$ for Z channel\", xlabel=\"$f$\", ylabel=\"$p_1^*$\")\n",
    "ax2.legend();"
   ]
  },
  {
   "cell_type": "markdown",
   "metadata": {},
   "source": [
    "**Exercise 9.17** What is the capacity of the channel (shown in book)?  \n",
    "Seems similar to the noisy typewriter.  \n",
    "$H(Y\\mid X)$ is independent of choice $\\mathcal P_X$ and is 2 bits. So we just want to maximize $H(Y)$ which is when it is uniform, and then $H(Y)=\\log10$. When $\\mathcal P_X$ is uniform so is $\\mathcal P_Y$ so over all we get $C=\\max I(X;Y)=\\log5$.\n",
    "\n",
    "**Exercise 9.18** skipping for now, don't wanna mess with gaussians.\n",
    "\n",
    "**Exercise 9.20** Birthday problem  \n",
    "Probability is simple, written below\n",
    "Regarding the expectation, lets write $X_i$ as the #pairs between the first $i$ people, and $Y_i$ as the number of people before him born on the $i$th person's birthday. Then $X_i=X_{i-1}+Y_i$ and (I think) they are iid? or not. It doesn't matter you dumb fuck!!!\n",
    "\n",
    "$$E[Y_i]=E\\left[\\sum_{1\\leq j<i}\\mathbb{1}_{ij}\\right]=\\sum_{1\\leq j<i}\\frac1{A}=\\frac{i-1}{A}$$\n",
    "\n",
    "and\n",
    "\n",
    "$$E[X_i]=E\\left[\\sum_{j=1}^iY_j\\right]=\\sum\\frac{j-1}{A}=$$\n",
    "Well I'm actually working too hard now that I dont need iid.\n",
    "$$E[X_i]=\\sum_{1\\leq j<k\\leq i}\\mathbb{1}_{jk}= \\binom{i}{2}\\frac1{A}=\\frac{i(i-1)}{2A}$$\n",
    "\n",
    "Looking at the solution, I'm right. He pointed out that the expectation is more informative since it illustrates a clear relation between $A$ and $S$."
   ]
  },
  {
   "cell_type": "code",
   "execution_count": 102,
   "metadata": {},
   "outputs": [
    {
     "name": "stdout",
     "output_type": "stream",
     "text": [
      "p(atleast 2 people have same birthday)=0.0084\n",
      "E[X_s]=0.0126\n",
      "log(p)=-0.008446759094873357\n",
      "error=2.6645352591003757e-15\n"
     ]
    }
   ],
   "source": [
    "A = 356 # number of days in a year\n",
    "S = 3 # number of people\n",
    "\n",
    "#what is the probability that no one shares the same birthday?\n",
    "p = 1\n",
    "for i in range(S):\n",
    "    p*= (A-i)/A\n",
    "\n",
    "log_p = sum(np.log(A-np.arange(S)))-S*np.log(A)\n",
    "print(f\"p(atleast 2 people have same birthday)={1-p:.4f}\")\n",
    "print(f\"E[X_s]={S*S/(2*A):.4f}\")\n",
    "print(f\"log(p)={log_p}\")\n",
    "print(f\"error={abs((p-np.exp(log_p)))}\")\n"
   ]
  },
  {
   "cell_type": "markdown",
   "metadata": {},
   "source": [
    "**Exercise 9.21** Relation of the birthday problem to a coding scheme.  \n",
    "We want to identify one of the twenty-four people. We can communicate a number $\\mathcal A_S=\\{1,2,\\dots,24\\}$, or we could covey a birthday $\\mathcal A_X=\\{1,2\\dots,365\\}$. What's the probability of error for a single transmition? What is the capacity of the channel, and what is the rate of communication attempted?\n",
    "\n",
    "Hmm, I think it's the kind of question to make you ponder the definition and how everything fits. We already encountered the symbol $\\mathcal A_S$ before. Maybe we can model the input as $\\mathcal A_S$ and the output as $\\mathcal A_X$, since there is no outside noise.\n",
    "\n",
    "So, what is the probability of error? we get an error if we have a clash with the birthday of the chosen person, someone else shares the same birthday. The probability of no error is\n",
    "$$(S-1)\\frac1A$$\n",
    "ie no one shares the birthday. So the probability of error is $1-\\frac{S-1}A$.\n",
    "\n",
    "Maybe I'm thinking about it wrong... I think the birthdays are already deterministic.\n",
    "\n",
    "Going back the block code defintion, the scenario is we have channel $Q$ and we have a list of length $S$ of codewords, in this case the birthdays (in the definition it's codes from $\\mathcal A_X^N$ but let's ignore that for now). We use those codes to encode the signal which will be the people's number.\n",
    "\n",
    "The rate is $R=K/N=(\\log_2S)/N$ bits per channel use. In the case of $q$ input symbols, the rate is $K/(N\\log_2 q)$, so one question is, if the otherside knows all the birthdays, does my input symbol need be of size $A$ or can I limit to $\\leq S$?\n",
    "\n",
    "A decoder would be a mapping from $\\mathcal A_Y^N\\to \\mathcal A_S\\cup \\{0\\}$, (0 signifying failure) but in our case the channel is noiseless so the domain is actually $\\mathcal A_X^N$.\n",
    "\n",
    "Here's what we'll do. Let's use the whole input of size 365, but in our case assume a uniform distribution $\\mathcal P_S$, and figure out what it means for $\\mathcal P_X$.\n",
    "\n",
    "The rate is $(\\log_2 24)/(1*\\log_2 365)=$"
   ]
  },
  {
   "cell_type": "code",
   "execution_count": 103,
   "metadata": {},
   "outputs": [
    {
     "data": {
      "text/plain": [
       "0.5386625630729307"
      ]
     },
     "execution_count": 103,
     "metadata": {},
     "output_type": "execute_result"
    }
   ],
   "source": [
    "np.log(24)/np.log(365)"
   ]
  },
  {
   "cell_type": "markdown",
   "metadata": {},
   "source": [
    "I found the solutions manual, so there is a solution if needed. Anyway, basically the questions for me now is how to formulate the noise, the meaning of knowing the birthdays in advance and what is the actual channel. I'll leave this and the next exercise be for now."
   ]
  },
  {
   "cell_type": "markdown",
   "metadata": {},
   "source": [
    "## The Noisy-Channel Coding Theorem\n",
    "\n",
    "This is definitely one of the more difficult subjects encountred so far. Lots of definitions, tricky probability wording, some conceptual tricks in the proof. I read both the chapter, saw the lecture (which proves a specific case, the BSC) and read the proof in \"Elements of Information Theory\". \n",
    "\n",
    "_Wrote this at 12:30, then went into a chess frenzy and now it's 18:52. noice..._\n",
    "\n",
    "Let's state the theorem:\n",
    "1. For every discrete memoryless cahnnel, the channel capcacity\n",
    "$$C=\\max_{\\mathcal P_X}I(X;Y)$$ has the property that for any $\\varepsilon>0$ and $R<C$, for large enough $N$, there exists a code of length $N$ and rate $\\geq R$ and a decoding algorithm, s.t  $P_\\text{BM}<\\varepsilon$.\n",
    "2. If a probability of bit error $p_b$ is acceptable, rates up to $R(p_b)$ are achievable, where\n",
    "$$R(p_b)=\\frac{C}{1-H_2(p_b)}$$\n",
    "3. For any $p_b$, rates greater than $R(p_b)$ are not achievable.\n",
    "\n",
    "I'm not sure how much of the proof will be written here, and I also want to try to demonstrate some of the ideas interactively. Ofcourse, it is somewhat challenging since a lot of the properties only take hold when $n$ is really big.\n",
    "\n",
    "So the first notion we examine is Joint Typicality, as we will base our coding and decoding on it.\n",
    "\n",
    "**Joint typicality** - A pair of sequences $\\vec x, \\vec y$ of length $N$ are defined to be jointly typical (to tolerance $\\beta$) with respect to distribution $P(x,y)$ if $\\vec x \\in T_{N\\beta}^X$, $\\vec y\\in T_{N\\beta}^Y$ and $(\\vec x, \\vec y)\\in T_{N\\beta}^XY$. The set of all jointly-typical sequences is $J_{N\\beta}$.\n",
    "\n",
    "**Joint typicality theorem** Let $\\vec x, \\vec y\\sim (XY)^N$\n",
    "$$P(\\vec x, \\vec y)=\\prod_{n=1}^NP(x_n,y_n)$$\n",
    "Then\n",
    "1. $P(\\vec x, \\vec y\\in J_{N\\beta})\\underset{N\\to\\infty}\\to1$\n",
    "2. $\\left|J_{N\\beta}\\right|\\leq2^{N(H(X,Y)+\\beta)}$\n",
    "3. if $\\vec {x'}$ and $\\vec {y'}$ are sampled independently from the marginal distributions then $P(\\vec {x'}, \\vec {y'}\\in J_{N\\beta})\\leq2^{-N(IX;Y)-3\\beta)}$\n",
    "\n",
    "Let's explore the theorem in the case of a BSC"
   ]
  },
  {
   "cell_type": "code",
   "execution_count": 146,
   "metadata": {},
   "outputs": [
    {
     "name": "stdout",
     "output_type": "stream",
     "text": [
      "H(X)=0.4690, H(Y)=0.8267, H(XY)=1.1909, I(X;Y)=0.1048\n",
      "freq(x,y are JT)=0.988, freq(x`,y are JT)=0.008\n"
     ]
    },
    {
     "data": {
      "text/plain": [
       "0.006965784284662087"
      ]
     },
     "execution_count": 146,
     "metadata": {},
     "output_type": "execute_result"
    }
   ],
   "source": [
    "# get vector of probabilities and return its emprical entropy\n",
    "def emp_entropy(p):\n",
    "    return sum(-np.log2(p))/len(p)\n",
    "\n",
    "f=0.2\n",
    "q=np.array([[1-f,f]\n",
    "           ,[f,1-f]])\n",
    "p_x=np.array([.9,.1])\n",
    "p_y=q@p_x\n",
    "p_xy=q*p_x\n",
    "H_X = entropy(p_x)\n",
    "H_Y = entropy(p_y)\n",
    "H_XY = entropy(p_xy.flatten())\n",
    "\n",
    "print(f\"H(X)={H_X:.4f}, H(Y)={H_Y:.4f}, H(XY)={H_XY:.4f}, I(X;Y)={entropy(p_y) - entropy(q)@p_x:.4f}\")\n",
    "N = 1000\n",
    "beta = 0.1\n",
    "jt_counter = 0 # x and y are jointly typical\n",
    "ijt_counter = 0 # x` and y are iid and jointly typical\n",
    "attempts = 1000\n",
    "for i in range(attempts):\n",
    "    s_x=bernoulli.rvs(p_x[1], size=N)\n",
    "    s_y_x = bernoulli.rvs(q[1, s_x], size=N)\n",
    "    s_x_alt=bernoulli.rvs(p_x[1], size=N)\n",
    "    x_t = abs(H_X-emp_entropy(p_x[s_x])) < beta\n",
    "    y_t = abs(H_Y-emp_entropy(p_y[s_y_x])) < beta\n",
    "    xy_jt = abs(H_XY-emp_entropy(p_xy[s_y_x,s_x])) < beta\n",
    "    x_alt_t = abs(H_X-emp_entropy(p_x[s_x_alt])) < beta\n",
    "    x_alty_jt = abs(H_XY-emp_entropy(p_xy[s_y_x,s_x_alt])) < beta\n",
    "    if x_t and y_t and xy_jt: jt_counter+= 1\n",
    "    if x_alt_t and y_t and x_alty_jt: ijt_counter += 1\n",
    "        \n",
    "print(f\"freq(x,y are JT)={jt_counter/attempts}, freq(x`,y are JT)={ijt_counter/attempts}\")"
   ]
  },
  {
   "cell_type": "markdown",
   "metadata": {},
   "source": [
    "We can see that in this case the set pretty quickly converges to 1. If $\\beta$ is larger than $I(X;Y)/3$ then the 3rd part of the theorem is meaningless. \n",
    "\n",
    "### Typical-set decoders\n",
    "We'll describe an encoding and decoding scheme, given a rate $R'$ and $N$ block size, and $P(x)$ distribution on $\\mathcal A_X$. We sample $S=2^{NR'}$ codewords from $\\mathcal A_X^N$ according to $P(\\vec x)=\\prod_{n=1}^NP(x_n)$. Given a transmission $\\vec y_s$, we will look for a codeword $\\vec x\\in\\mathcal C$ that is jointly typical with it. If more than one is found or none at all, we declare failure, otherwise we decode it as its jointly typical pair.\n",
    "\n",
    "This is not the optimal decoding scheme (that would be MAP) but it is good enough and easier to analyze. In what circumstances does our scheme fail? Either the received transmition is not jointly typical with the message sent, or there is another code who is also jointly-typical with the transmition. \n",
    "\n",
    "The proof in the book is pretty vague. I can either describe the ideas textually or try writing down the equations.\n",
    "\n",
    "**Proof:**\n",
    "Let there be $\\varepsilon>0$ and $R<C$ capacity of the channel. We generate $2^{NR}$ codes as described above and set them in a matrix\n",
    "$$\\mathcal{C}=\\begin{bmatrix}\n",
    "x_1(1) & x_2(1) & \\dots & x_n(1) \\\\\n",
    "\\vdots & \\vdots & \\ddots & \\vdots \\\\\n",
    "x_1(2^{NR}) & x_2(2^{NR}) & \\dots & x_n(2^{NR}) \\\\\n",
    "\\end{bmatrix}$$\n",
    "\n",
    "Since each entry is i.i.d\n",
    "$$P(\\mathcal C)=\\prod_{w=1}^{2^{NR}}\\prod_{i=1}^Np(x_i(w))$$\n",
    "\n",
    "Instead of calculating the particular generated code's probability of error, we average over all codes.\n",
    "\n",
    "$$\\begin{align}\n",
    "P(\\mathcal E)&=\\sum_{\\mathcal C}P(\\mathcal C)P_\\text{B}(\\mathcal C)\\\\\n",
    "&=\\sum_{\\mathcal C}P(\\mathcal C)\\frac1{2^{NR}}\\sum_{w=1}^{2^{NR}}\\lambda_w(\\mathcal C)\\\\\n",
    "&=\\frac1{2^{NR}}\\sum_{w=1}^{2^{NR}}\\sum_{\\mathcal C}P(\\mathcal C)\\lambda_w(\\mathcal C)\\\\\n",
    "&=\\sum_\\mathcal{C}P(\\mathcal C)\\lambda_1(\\mathcal C)\\\\\n",
    "&=P(\\text{$\\vec x_1$ and $\\vec y$ not jointly-typical})+P(\\text{another code word is jointly-typical})\\\\\n",
    "& \\leq \\varepsilon+(2^{NR}-1)2^{-N(I(X;Y)-3\\varepsilon}\\\\\n",
    "& \\leq \\varepsilon +2^{3N\\varepsilon}2^{-N(I(X;Y)-R)}\\\\\n",
    "& \\leq 2\\varepsilon\n",
    "\\end{align}$$\n",
    "\n",
    "Since the average is smaller than $2\\varepsilon$ there is a code with $p_\\text{B}<2\\varepsilon$. What about the maximal error? if we throw out half of the worst code words, we reduce that rate by $\\frac1N$ and bound the maximal error as $4\\epsilon$, as wanted.\n",
    "\n",
    "So above is the deriviation without justification for the equalities and inequalities. If you can follow this, you understand the proof. If not, refer to Elements of Information Theory for the actual proof, which fairly clean and nicely presented.\n",
    "\n",
    "Phew, I don't know why but this proof business is really tiring. I'm going to skip the rest of the chapter and the following one, and move on to the next-next part, probabilities and inference.\n",
    "\n",
    "**Rest of chapter** - TBD"
   ]
  },
  {
   "cell_type": "markdown",
   "metadata": {},
   "source": [
    "## Error-Correcting Codes and Real Channels\n",
    "TBD"
   ]
  }
 ],
 "metadata": {
  "kernelspec": {
   "display_name": "Python 3",
   "language": "python",
   "name": "python3"
  },
  "language_info": {
   "codemirror_mode": {
    "name": "ipython",
    "version": 3
   },
   "file_extension": ".py",
   "mimetype": "text/x-python",
   "name": "python",
   "nbconvert_exporter": "python",
   "pygments_lexer": "ipython3",
   "version": "3.7.6"
  }
 },
 "nbformat": 4,
 "nbformat_minor": 4
}
