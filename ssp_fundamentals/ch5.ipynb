{
 "cells": [
  {
   "cell_type": "code",
   "execution_count": 1,
   "metadata": {},
   "outputs": [],
   "source": [
    "import numpy as np\n",
    "import matplotlib.pyplot as plt\n",
    "import scipy.stats as st\n",
    "np.random.seed = 42"
   ]
  },
  {
   "cell_type": "markdown",
   "metadata": {},
   "source": [
    "$\\renewcommand{\\vec}[1]{\\mathbf{#1}}$\n",
    "# General Minimum Variance Unbiased Estimation\n",
    "\n",
    "Here's a cool idea, maybe we don't need to know the pdf to get an efficient estimator, maybe just some \"facts\" about the pdf, some... statistics. Probably misunderstood\n",
    "\n",
    "#### Example - Sufficient statistics for constant in gaussian noise\n",
    "\n",
    "MVU estimator\n",
    "$$\\hat A = \\frac1N\\sum_{n=0}^{N-1}x[n]$$\n",
    "with variance $\\sigma^2/N$. Another estimator we say $\\check A = x[0]$ was unbiased but not MVU. We could have improved our performance with the rest of the data.\n",
    "\n",
    "Is there a set of data which is sufficient?\n",
    "$$S=\\left\\{\\sum_{n=0}^{N-1}x[n]\\right\\}$$\n",
    "is one. There are many **sufficient** data sets but that is the minimal. It is a statistic of the data, so it is a sufficient statistic. In general we might have several. Interestingly, all the data about $A$ in the data set is summarized in this statistic. Formally, if $T(\\vec{x})$ is a sufficient statistic then\n",
    "$$p(\\vec{x}=\\vec{x_0}\\mid T(\\vec{x})=T_0;A)$$\n",
    "doesn't depends on A, ie is constant in regards to A.\n",
    "\n",
    "**Theorem (Neyman-Fisher Factorization)** if we can factor the PDF $p(\\vec{x};\\theta)$ as $$p(\\vec{x};\\theta)=g(T(\\vec{x}), \\theta)h(\\vec{x})$$ then $T(\\vec x)$ is a sufficient statistic for $\\theta$, and conversely, if $T(\\vec x)$ is a sufficient statistic then the PDF can be factored."
   ]
  }
 ],
 "metadata": {
  "kernelspec": {
   "display_name": "Python 3",
   "language": "python",
   "name": "python3"
  },
  "language_info": {
   "codemirror_mode": {
    "name": "ipython",
    "version": 3
   },
   "file_extension": ".py",
   "mimetype": "text/x-python",
   "name": "python",
   "nbconvert_exporter": "python",
   "pygments_lexer": "ipython3",
   "version": "3.7.6"
  }
 },
 "nbformat": 4,
 "nbformat_minor": 4
}
